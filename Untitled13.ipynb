{
  "nbformat": 4,
  "nbformat_minor": 0,
  "metadata": {
    "colab": {
      "name": "Untitled13.ipynb",
      "provenance": [],
      "collapsed_sections": [],
      "mount_file_id": "1LanawVQi-H-z5WhZkzav83r02pYReBRm",
      "authorship_tag": "ABX9TyNZhdeeCkOhakj0F2kltJwq",
      "include_colab_link": true
    },
    "kernelspec": {
      "name": "python3",
      "display_name": "Python 3"
    },
    "language_info": {
      "name": "python"
    },
    "accelerator": "GPU",
    "gpuClass": "standard"
  },
  "cells": [
    {
      "cell_type": "markdown",
      "metadata": {
        "id": "view-in-github",
        "colab_type": "text"
      },
      "source": [
        "<a href=\"https://colab.research.google.com/github/darkknight2001/Library-Assistant/blob/master/Untitled13.ipynb\" target=\"_parent\"><img src=\"https://colab.research.google.com/assets/colab-badge.svg\" alt=\"Open In Colab\"/></a>"
      ]
    },
    {
      "cell_type": "code",
      "source": [
        "from google.colab import drive\n",
        "drive.mount('/content/drive')"
      ],
      "metadata": {
        "colab": {
          "base_uri": "https://localhost:8080/"
        },
        "id": "a-SJiCft3k3Z",
        "outputId": "f311194b-c416-461c-d004-df423c5bca71"
      },
      "execution_count": null,
      "outputs": [
        {
          "output_type": "stream",
          "name": "stdout",
          "text": [
            "Drive already mounted at /content/drive; to attempt to forcibly remount, call drive.mount(\"/content/drive\", force_remount=True).\n"
          ]
        }
      ]
    },
    {
      "cell_type": "code",
      "source": [
        "import pandas as pd\n",
        "df = pd.read_excel('drive/MyDrive/Rice_MSC_Dataset.xlsx')\n",
        "df.head()"
      ],
      "metadata": {
        "id": "0w03bqWv-VYo",
        "colab": {
          "base_uri": "https://localhost:8080/",
          "height": 299
        },
        "outputId": "18409594-60e9-4092-b775-7089f07acd04"
      },
      "execution_count": null,
      "outputs": [
        {
          "output_type": "execute_result",
          "data": {
            "text/plain": [
              "   AREA  PERIMETER  MAJOR_AXIS  MINOR_AXIS  ECCENTRICITY   EQDIASQ  SOLIDITY  \\\n",
              "0  7805    437.915    209.8215     48.0221        0.9735   99.6877    0.9775   \n",
              "1  7503    340.757    138.3361     69.8417        0.8632   97.7400    0.9660   \n",
              "2  5124    314.617    141.9803     46.5784        0.9447   80.7718    0.9721   \n",
              "3  7990    437.085    201.4386     51.2245        0.9671  100.8622    0.9659   \n",
              "4  7433    342.893    140.3350     68.3927        0.8732   97.2830    0.9831   \n",
              "\n",
              "   CONVEX_AREA  EXTENT  ASPECT_RATIO  ...  ALLdaub4L  ALLdaub4a  ALLdaub4b  \\\n",
              "0         7985  0.3547        4.3693  ...   113.9924    65.0610    59.5989   \n",
              "1         7767  0.6637        1.9807  ...   105.7055    64.3685    62.2084   \n",
              "2         5271  0.4760        3.0482  ...   109.7155    62.6423    58.7439   \n",
              "3         8272  0.6274        3.9325  ...   116.5405    64.9069    60.2562   \n",
              "4         7561  0.6006        2.0519  ...   107.7502    64.7071    61.3549   \n",
              "\n",
              "   ALLdaub4Y  ALLdaub4Cb  ALLdaub4Cr  ALLdaub4XX  ALLdaub4YY  ALLdaub4ZZ  \\\n",
              "0   104.8552     67.8779     63.0828      0.3673      0.3793      0.4733   \n",
              "1    96.8375     65.5371     63.5832      0.3014      0.3144      0.3641   \n",
              "2   100.2352     68.9753     59.8342      0.3233      0.3445      0.4448   \n",
              "3   107.2560     67.3298     63.2237      0.3880      0.4020      0.4904   \n",
              "4    98.8704     66.2048     63.5378      0.3184      0.3303      0.3928   \n",
              "\n",
              "     CLASS  \n",
              "0  Basmati  \n",
              "1  Arborio  \n",
              "2  Jasmine  \n",
              "3  Basmati  \n",
              "4  Arborio  \n",
              "\n",
              "[5 rows x 107 columns]"
            ],
            "text/html": [
              "\n",
              "  <div id=\"df-4b833d1a-4436-4efe-bdf9-08ee7b899955\">\n",
              "    <div class=\"colab-df-container\">\n",
              "      <div>\n",
              "<style scoped>\n",
              "    .dataframe tbody tr th:only-of-type {\n",
              "        vertical-align: middle;\n",
              "    }\n",
              "\n",
              "    .dataframe tbody tr th {\n",
              "        vertical-align: top;\n",
              "    }\n",
              "\n",
              "    .dataframe thead th {\n",
              "        text-align: right;\n",
              "    }\n",
              "</style>\n",
              "<table border=\"1\" class=\"dataframe\">\n",
              "  <thead>\n",
              "    <tr style=\"text-align: right;\">\n",
              "      <th></th>\n",
              "      <th>AREA</th>\n",
              "      <th>PERIMETER</th>\n",
              "      <th>MAJOR_AXIS</th>\n",
              "      <th>MINOR_AXIS</th>\n",
              "      <th>ECCENTRICITY</th>\n",
              "      <th>EQDIASQ</th>\n",
              "      <th>SOLIDITY</th>\n",
              "      <th>CONVEX_AREA</th>\n",
              "      <th>EXTENT</th>\n",
              "      <th>ASPECT_RATIO</th>\n",
              "      <th>...</th>\n",
              "      <th>ALLdaub4L</th>\n",
              "      <th>ALLdaub4a</th>\n",
              "      <th>ALLdaub4b</th>\n",
              "      <th>ALLdaub4Y</th>\n",
              "      <th>ALLdaub4Cb</th>\n",
              "      <th>ALLdaub4Cr</th>\n",
              "      <th>ALLdaub4XX</th>\n",
              "      <th>ALLdaub4YY</th>\n",
              "      <th>ALLdaub4ZZ</th>\n",
              "      <th>CLASS</th>\n",
              "    </tr>\n",
              "  </thead>\n",
              "  <tbody>\n",
              "    <tr>\n",
              "      <th>0</th>\n",
              "      <td>7805</td>\n",
              "      <td>437.915</td>\n",
              "      <td>209.8215</td>\n",
              "      <td>48.0221</td>\n",
              "      <td>0.9735</td>\n",
              "      <td>99.6877</td>\n",
              "      <td>0.9775</td>\n",
              "      <td>7985</td>\n",
              "      <td>0.3547</td>\n",
              "      <td>4.3693</td>\n",
              "      <td>...</td>\n",
              "      <td>113.9924</td>\n",
              "      <td>65.0610</td>\n",
              "      <td>59.5989</td>\n",
              "      <td>104.8552</td>\n",
              "      <td>67.8779</td>\n",
              "      <td>63.0828</td>\n",
              "      <td>0.3673</td>\n",
              "      <td>0.3793</td>\n",
              "      <td>0.4733</td>\n",
              "      <td>Basmati</td>\n",
              "    </tr>\n",
              "    <tr>\n",
              "      <th>1</th>\n",
              "      <td>7503</td>\n",
              "      <td>340.757</td>\n",
              "      <td>138.3361</td>\n",
              "      <td>69.8417</td>\n",
              "      <td>0.8632</td>\n",
              "      <td>97.7400</td>\n",
              "      <td>0.9660</td>\n",
              "      <td>7767</td>\n",
              "      <td>0.6637</td>\n",
              "      <td>1.9807</td>\n",
              "      <td>...</td>\n",
              "      <td>105.7055</td>\n",
              "      <td>64.3685</td>\n",
              "      <td>62.2084</td>\n",
              "      <td>96.8375</td>\n",
              "      <td>65.5371</td>\n",
              "      <td>63.5832</td>\n",
              "      <td>0.3014</td>\n",
              "      <td>0.3144</td>\n",
              "      <td>0.3641</td>\n",
              "      <td>Arborio</td>\n",
              "    </tr>\n",
              "    <tr>\n",
              "      <th>2</th>\n",
              "      <td>5124</td>\n",
              "      <td>314.617</td>\n",
              "      <td>141.9803</td>\n",
              "      <td>46.5784</td>\n",
              "      <td>0.9447</td>\n",
              "      <td>80.7718</td>\n",
              "      <td>0.9721</td>\n",
              "      <td>5271</td>\n",
              "      <td>0.4760</td>\n",
              "      <td>3.0482</td>\n",
              "      <td>...</td>\n",
              "      <td>109.7155</td>\n",
              "      <td>62.6423</td>\n",
              "      <td>58.7439</td>\n",
              "      <td>100.2352</td>\n",
              "      <td>68.9753</td>\n",
              "      <td>59.8342</td>\n",
              "      <td>0.3233</td>\n",
              "      <td>0.3445</td>\n",
              "      <td>0.4448</td>\n",
              "      <td>Jasmine</td>\n",
              "    </tr>\n",
              "    <tr>\n",
              "      <th>3</th>\n",
              "      <td>7990</td>\n",
              "      <td>437.085</td>\n",
              "      <td>201.4386</td>\n",
              "      <td>51.2245</td>\n",
              "      <td>0.9671</td>\n",
              "      <td>100.8622</td>\n",
              "      <td>0.9659</td>\n",
              "      <td>8272</td>\n",
              "      <td>0.6274</td>\n",
              "      <td>3.9325</td>\n",
              "      <td>...</td>\n",
              "      <td>116.5405</td>\n",
              "      <td>64.9069</td>\n",
              "      <td>60.2562</td>\n",
              "      <td>107.2560</td>\n",
              "      <td>67.3298</td>\n",
              "      <td>63.2237</td>\n",
              "      <td>0.3880</td>\n",
              "      <td>0.4020</td>\n",
              "      <td>0.4904</td>\n",
              "      <td>Basmati</td>\n",
              "    </tr>\n",
              "    <tr>\n",
              "      <th>4</th>\n",
              "      <td>7433</td>\n",
              "      <td>342.893</td>\n",
              "      <td>140.3350</td>\n",
              "      <td>68.3927</td>\n",
              "      <td>0.8732</td>\n",
              "      <td>97.2830</td>\n",
              "      <td>0.9831</td>\n",
              "      <td>7561</td>\n",
              "      <td>0.6006</td>\n",
              "      <td>2.0519</td>\n",
              "      <td>...</td>\n",
              "      <td>107.7502</td>\n",
              "      <td>64.7071</td>\n",
              "      <td>61.3549</td>\n",
              "      <td>98.8704</td>\n",
              "      <td>66.2048</td>\n",
              "      <td>63.5378</td>\n",
              "      <td>0.3184</td>\n",
              "      <td>0.3303</td>\n",
              "      <td>0.3928</td>\n",
              "      <td>Arborio</td>\n",
              "    </tr>\n",
              "  </tbody>\n",
              "</table>\n",
              "<p>5 rows × 107 columns</p>\n",
              "</div>\n",
              "      <button class=\"colab-df-convert\" onclick=\"convertToInteractive('df-4b833d1a-4436-4efe-bdf9-08ee7b899955')\"\n",
              "              title=\"Convert this dataframe to an interactive table.\"\n",
              "              style=\"display:none;\">\n",
              "        \n",
              "  <svg xmlns=\"http://www.w3.org/2000/svg\" height=\"24px\"viewBox=\"0 0 24 24\"\n",
              "       width=\"24px\">\n",
              "    <path d=\"M0 0h24v24H0V0z\" fill=\"none\"/>\n",
              "    <path d=\"M18.56 5.44l.94 2.06.94-2.06 2.06-.94-2.06-.94-.94-2.06-.94 2.06-2.06.94zm-11 1L8.5 8.5l.94-2.06 2.06-.94-2.06-.94L8.5 2.5l-.94 2.06-2.06.94zm10 10l.94 2.06.94-2.06 2.06-.94-2.06-.94-.94-2.06-.94 2.06-2.06.94z\"/><path d=\"M17.41 7.96l-1.37-1.37c-.4-.4-.92-.59-1.43-.59-.52 0-1.04.2-1.43.59L10.3 9.45l-7.72 7.72c-.78.78-.78 2.05 0 2.83L4 21.41c.39.39.9.59 1.41.59.51 0 1.02-.2 1.41-.59l7.78-7.78 2.81-2.81c.8-.78.8-2.07 0-2.86zM5.41 20L4 18.59l7.72-7.72 1.47 1.35L5.41 20z\"/>\n",
              "  </svg>\n",
              "      </button>\n",
              "      \n",
              "  <style>\n",
              "    .colab-df-container {\n",
              "      display:flex;\n",
              "      flex-wrap:wrap;\n",
              "      gap: 12px;\n",
              "    }\n",
              "\n",
              "    .colab-df-convert {\n",
              "      background-color: #E8F0FE;\n",
              "      border: none;\n",
              "      border-radius: 50%;\n",
              "      cursor: pointer;\n",
              "      display: none;\n",
              "      fill: #1967D2;\n",
              "      height: 32px;\n",
              "      padding: 0 0 0 0;\n",
              "      width: 32px;\n",
              "    }\n",
              "\n",
              "    .colab-df-convert:hover {\n",
              "      background-color: #E2EBFA;\n",
              "      box-shadow: 0px 1px 2px rgba(60, 64, 67, 0.3), 0px 1px 3px 1px rgba(60, 64, 67, 0.15);\n",
              "      fill: #174EA6;\n",
              "    }\n",
              "\n",
              "    [theme=dark] .colab-df-convert {\n",
              "      background-color: #3B4455;\n",
              "      fill: #D2E3FC;\n",
              "    }\n",
              "\n",
              "    [theme=dark] .colab-df-convert:hover {\n",
              "      background-color: #434B5C;\n",
              "      box-shadow: 0px 1px 3px 1px rgba(0, 0, 0, 0.15);\n",
              "      filter: drop-shadow(0px 1px 2px rgba(0, 0, 0, 0.3));\n",
              "      fill: #FFFFFF;\n",
              "    }\n",
              "  </style>\n",
              "\n",
              "      <script>\n",
              "        const buttonEl =\n",
              "          document.querySelector('#df-4b833d1a-4436-4efe-bdf9-08ee7b899955 button.colab-df-convert');\n",
              "        buttonEl.style.display =\n",
              "          google.colab.kernel.accessAllowed ? 'block' : 'none';\n",
              "\n",
              "        async function convertToInteractive(key) {\n",
              "          const element = document.querySelector('#df-4b833d1a-4436-4efe-bdf9-08ee7b899955');\n",
              "          const dataTable =\n",
              "            await google.colab.kernel.invokeFunction('convertToInteractive',\n",
              "                                                     [key], {});\n",
              "          if (!dataTable) return;\n",
              "\n",
              "          const docLinkHtml = 'Like what you see? Visit the ' +\n",
              "            '<a target=\"_blank\" href=https://colab.research.google.com/notebooks/data_table.ipynb>data table notebook</a>'\n",
              "            + ' to learn more about interactive tables.';\n",
              "          element.innerHTML = '';\n",
              "          dataTable['output_type'] = 'display_data';\n",
              "          await google.colab.output.renderOutput(dataTable, element);\n",
              "          const docLink = document.createElement('div');\n",
              "          docLink.innerHTML = docLinkHtml;\n",
              "          element.appendChild(docLink);\n",
              "        }\n",
              "      </script>\n",
              "    </div>\n",
              "  </div>\n",
              "  "
            ]
          },
          "metadata": {},
          "execution_count": 3
        }
      ]
    },
    {
      "cell_type": "code",
      "source": [
        "x=df.columns"
      ],
      "metadata": {
        "id": "r3TrEf7aWWtB"
      },
      "execution_count": null,
      "outputs": []
    },
    {
      "cell_type": "code",
      "source": [
        "for i in x:\n",
        "  print(i)"
      ],
      "metadata": {
        "colab": {
          "base_uri": "https://localhost:8080/"
        },
        "id": "hUNIz-eMW395",
        "outputId": "a9e7f4f5-688e-4180-9e3d-5908edfca50b"
      },
      "execution_count": null,
      "outputs": [
        {
          "output_type": "stream",
          "name": "stdout",
          "text": [
            "AREA\n",
            "PERIMETER\n",
            "MAJOR_AXIS\n",
            "MINOR_AXIS\n",
            "ECCENTRICITY\n",
            "EQDIASQ\n",
            "SOLIDITY\n",
            "CONVEX_AREA\n",
            "EXTENT\n",
            "ASPECT_RATIO\n",
            "ROUNDNESS\n",
            "COMPACTNESS\n",
            "SHAPEFACTOR_1\n",
            "SHAPEFACTOR_2\n",
            "SHAPEFACTOR_3\n",
            "SHAPEFACTOR_4\n",
            "meanRR\n",
            "meanRG\n",
            "meanRB\n",
            "StdDevRR\n",
            "StdDevRG\n",
            "StdDevRB\n",
            "skewRR\n",
            "skewRG\n",
            "skewRB\n",
            "kurtosisRR\n",
            "kurtosisRG\n",
            "kurtosisRB\n",
            "entropyRR\n",
            "entropyRG\n",
            "entropyRB\n",
            "meanH\n",
            "meanS\n",
            "meanV\n",
            "StdDevH\n",
            "StdDevS\n",
            "StdDevV\n",
            "skewH\n",
            "skewS\n",
            "skewV\n",
            "kurtosisH\n",
            "kurtosisS\n",
            "kurtosisV\n",
            "entropyH\n",
            "entropyS\n",
            "entropyV\n",
            "meanL\n",
            "meanA\n",
            "meanB\n",
            "StdDevL\n",
            "StdDevA\n",
            "StdDevB\n",
            "skewL\n",
            "skewA\n",
            "skewB\n",
            "kurtosisL\n",
            "kurtosisA\n",
            "kurtosisB\n",
            "entropyL\n",
            "entropyA\n",
            "entropyB\n",
            "meanY\n",
            "meanCb\n",
            "meanCr\n",
            "StdDevY\n",
            "StdDevCb\n",
            "StdDevCr\n",
            "skewY\n",
            "skewCb\n",
            "skewCr\n",
            "kurtosisY\n",
            "kurtosisCb\n",
            "kurtosisCr\n",
            "entropyY\n",
            "entropyCb\n",
            "entropyCr\n",
            "meanXX\n",
            "meanYY\n",
            "meanZZ\n",
            "StdDevXX\n",
            "StdDevYY\n",
            "StdDevZZ\n",
            "skewXX\n",
            "skewYY\n",
            "skewZZ\n",
            "kurtosisXX\n",
            "kurtosisYY\n",
            "kurtosisZZ\n",
            "entropyXX\n",
            "entropyYY\n",
            "entropyZZ\n",
            "ALLdaub4RR\n",
            "ALLdaub4RG\n",
            "ALLdaub4RB\n",
            "ALLdaub4H\n",
            "ALLdaub4S\n",
            "ALLdaub4V\n",
            "ALLdaub4L\n",
            "ALLdaub4a\n",
            "ALLdaub4b\n",
            "ALLdaub4Y\n",
            "ALLdaub4Cb\n",
            "ALLdaub4Cr\n",
            "ALLdaub4XX\n",
            "ALLdaub4YY\n",
            "ALLdaub4ZZ\n",
            "CLASS\n"
          ]
        }
      ]
    },
    {
      "cell_type": "code",
      "source": [
        "X=df[[\"ROUNDNESS\",\"COMPACTNESS\",\"ASPECT_RATIO\",\"ECCENTRICITY\",\"SHAPEFACTOR_3\"]]"
      ],
      "metadata": {
        "id": "U7Z8o_2dW9zw"
      },
      "execution_count": null,
      "outputs": []
    },
    {
      "cell_type": "code",
      "source": [
        "!pip install xgboost"
      ],
      "metadata": {
        "colab": {
          "base_uri": "https://localhost:8080/"
        },
        "id": "RmGoi0AtcaOg",
        "outputId": "9d7db07e-6d97-41a4-ee3f-f3ed950d3d96"
      },
      "execution_count": null,
      "outputs": [
        {
          "output_type": "stream",
          "name": "stdout",
          "text": [
            "Looking in indexes: https://pypi.org/simple, https://us-python.pkg.dev/colab-wheels/public/simple/\n",
            "Requirement already satisfied: xgboost in /usr/local/lib/python3.7/dist-packages (0.90)\n",
            "Requirement already satisfied: numpy in /usr/local/lib/python3.7/dist-packages (from xgboost) (1.21.6)\n",
            "Requirement already satisfied: scipy in /usr/local/lib/python3.7/dist-packages (from xgboost) (1.4.1)\n"
          ]
        }
      ]
    },
    {
      "cell_type": "code",
      "source": [
        "from xgboost import XGBClassifier\n",
        "from sklearn.model_selection import train_test_split\n",
        "from sklearn.metrics import accuracy_score\n",
        "from sklearn.datasets import load_wine"
      ],
      "metadata": {
        "id": "HmqfCsAiaF9b"
      },
      "execution_count": null,
      "outputs": []
    },
    {
      "cell_type": "code",
      "source": [
        "y = pd.Series(df.CLASS)"
      ],
      "metadata": {
        "id": "S68JbKH6bEK9"
      },
      "execution_count": null,
      "outputs": []
    },
    {
      "cell_type": "code",
      "source": [
        "y"
      ],
      "metadata": {
        "colab": {
          "base_uri": "https://localhost:8080/"
        },
        "id": "ipylFykdbas7",
        "outputId": "71906d92-4088-498c-8991-2a161f5e1298"
      },
      "execution_count": null,
      "outputs": [
        {
          "output_type": "execute_result",
          "data": {
            "text/plain": [
              "0          Basmati\n",
              "1          Arborio\n",
              "2          Jasmine\n",
              "3          Basmati\n",
              "4          Arborio\n",
              "           ...    \n",
              "74995      Arborio\n",
              "74996    Karacadag\n",
              "74997      Arborio\n",
              "74998       Ipsala\n",
              "74999       Ipsala\n",
              "Name: CLASS, Length: 75000, dtype: object"
            ]
          },
          "metadata": {},
          "execution_count": 11
        }
      ]
    },
    {
      "cell_type": "code",
      "source": [
        "X.head()"
      ],
      "metadata": {
        "colab": {
          "base_uri": "https://localhost:8080/",
          "height": 206
        },
        "id": "o-ODjn60bm27",
        "outputId": "ff210eb0-2751-43ec-99bf-edf4078b3f86"
      },
      "execution_count": null,
      "outputs": [
        {
          "output_type": "execute_result",
          "data": {
            "text/plain": [
              "   ROUNDNESS  COMPACTNESS  ASPECT_RATIO  ECCENTRICITY  SHAPEFACTOR_3\n",
              "0     0.5114       0.4751        4.3693        0.9735         0.2257\n",
              "1     0.8120       0.7065        1.9807        0.8632         0.4992\n",
              "2     0.6505       0.5689        3.0482        0.9447         0.3236\n",
              "3     0.5256       0.5007        3.9325        0.9671         0.2507\n",
              "4     0.7944       0.6932        2.0519        0.8732         0.4806"
            ],
            "text/html": [
              "\n",
              "  <div id=\"df-1fb3b7a5-7494-43ce-8dcc-514ee6362836\">\n",
              "    <div class=\"colab-df-container\">\n",
              "      <div>\n",
              "<style scoped>\n",
              "    .dataframe tbody tr th:only-of-type {\n",
              "        vertical-align: middle;\n",
              "    }\n",
              "\n",
              "    .dataframe tbody tr th {\n",
              "        vertical-align: top;\n",
              "    }\n",
              "\n",
              "    .dataframe thead th {\n",
              "        text-align: right;\n",
              "    }\n",
              "</style>\n",
              "<table border=\"1\" class=\"dataframe\">\n",
              "  <thead>\n",
              "    <tr style=\"text-align: right;\">\n",
              "      <th></th>\n",
              "      <th>ROUNDNESS</th>\n",
              "      <th>COMPACTNESS</th>\n",
              "      <th>ASPECT_RATIO</th>\n",
              "      <th>ECCENTRICITY</th>\n",
              "      <th>SHAPEFACTOR_3</th>\n",
              "    </tr>\n",
              "  </thead>\n",
              "  <tbody>\n",
              "    <tr>\n",
              "      <th>0</th>\n",
              "      <td>0.5114</td>\n",
              "      <td>0.4751</td>\n",
              "      <td>4.3693</td>\n",
              "      <td>0.9735</td>\n",
              "      <td>0.2257</td>\n",
              "    </tr>\n",
              "    <tr>\n",
              "      <th>1</th>\n",
              "      <td>0.8120</td>\n",
              "      <td>0.7065</td>\n",
              "      <td>1.9807</td>\n",
              "      <td>0.8632</td>\n",
              "      <td>0.4992</td>\n",
              "    </tr>\n",
              "    <tr>\n",
              "      <th>2</th>\n",
              "      <td>0.6505</td>\n",
              "      <td>0.5689</td>\n",
              "      <td>3.0482</td>\n",
              "      <td>0.9447</td>\n",
              "      <td>0.3236</td>\n",
              "    </tr>\n",
              "    <tr>\n",
              "      <th>3</th>\n",
              "      <td>0.5256</td>\n",
              "      <td>0.5007</td>\n",
              "      <td>3.9325</td>\n",
              "      <td>0.9671</td>\n",
              "      <td>0.2507</td>\n",
              "    </tr>\n",
              "    <tr>\n",
              "      <th>4</th>\n",
              "      <td>0.7944</td>\n",
              "      <td>0.6932</td>\n",
              "      <td>2.0519</td>\n",
              "      <td>0.8732</td>\n",
              "      <td>0.4806</td>\n",
              "    </tr>\n",
              "  </tbody>\n",
              "</table>\n",
              "</div>\n",
              "      <button class=\"colab-df-convert\" onclick=\"convertToInteractive('df-1fb3b7a5-7494-43ce-8dcc-514ee6362836')\"\n",
              "              title=\"Convert this dataframe to an interactive table.\"\n",
              "              style=\"display:none;\">\n",
              "        \n",
              "  <svg xmlns=\"http://www.w3.org/2000/svg\" height=\"24px\"viewBox=\"0 0 24 24\"\n",
              "       width=\"24px\">\n",
              "    <path d=\"M0 0h24v24H0V0z\" fill=\"none\"/>\n",
              "    <path d=\"M18.56 5.44l.94 2.06.94-2.06 2.06-.94-2.06-.94-.94-2.06-.94 2.06-2.06.94zm-11 1L8.5 8.5l.94-2.06 2.06-.94-2.06-.94L8.5 2.5l-.94 2.06-2.06.94zm10 10l.94 2.06.94-2.06 2.06-.94-2.06-.94-.94-2.06-.94 2.06-2.06.94z\"/><path d=\"M17.41 7.96l-1.37-1.37c-.4-.4-.92-.59-1.43-.59-.52 0-1.04.2-1.43.59L10.3 9.45l-7.72 7.72c-.78.78-.78 2.05 0 2.83L4 21.41c.39.39.9.59 1.41.59.51 0 1.02-.2 1.41-.59l7.78-7.78 2.81-2.81c.8-.78.8-2.07 0-2.86zM5.41 20L4 18.59l7.72-7.72 1.47 1.35L5.41 20z\"/>\n",
              "  </svg>\n",
              "      </button>\n",
              "      \n",
              "  <style>\n",
              "    .colab-df-container {\n",
              "      display:flex;\n",
              "      flex-wrap:wrap;\n",
              "      gap: 12px;\n",
              "    }\n",
              "\n",
              "    .colab-df-convert {\n",
              "      background-color: #E8F0FE;\n",
              "      border: none;\n",
              "      border-radius: 50%;\n",
              "      cursor: pointer;\n",
              "      display: none;\n",
              "      fill: #1967D2;\n",
              "      height: 32px;\n",
              "      padding: 0 0 0 0;\n",
              "      width: 32px;\n",
              "    }\n",
              "\n",
              "    .colab-df-convert:hover {\n",
              "      background-color: #E2EBFA;\n",
              "      box-shadow: 0px 1px 2px rgba(60, 64, 67, 0.3), 0px 1px 3px 1px rgba(60, 64, 67, 0.15);\n",
              "      fill: #174EA6;\n",
              "    }\n",
              "\n",
              "    [theme=dark] .colab-df-convert {\n",
              "      background-color: #3B4455;\n",
              "      fill: #D2E3FC;\n",
              "    }\n",
              "\n",
              "    [theme=dark] .colab-df-convert:hover {\n",
              "      background-color: #434B5C;\n",
              "      box-shadow: 0px 1px 3px 1px rgba(0, 0, 0, 0.15);\n",
              "      filter: drop-shadow(0px 1px 2px rgba(0, 0, 0, 0.3));\n",
              "      fill: #FFFFFF;\n",
              "    }\n",
              "  </style>\n",
              "\n",
              "      <script>\n",
              "        const buttonEl =\n",
              "          document.querySelector('#df-1fb3b7a5-7494-43ce-8dcc-514ee6362836 button.colab-df-convert');\n",
              "        buttonEl.style.display =\n",
              "          google.colab.kernel.accessAllowed ? 'block' : 'none';\n",
              "\n",
              "        async function convertToInteractive(key) {\n",
              "          const element = document.querySelector('#df-1fb3b7a5-7494-43ce-8dcc-514ee6362836');\n",
              "          const dataTable =\n",
              "            await google.colab.kernel.invokeFunction('convertToInteractive',\n",
              "                                                     [key], {});\n",
              "          if (!dataTable) return;\n",
              "\n",
              "          const docLinkHtml = 'Like what you see? Visit the ' +\n",
              "            '<a target=\"_blank\" href=https://colab.research.google.com/notebooks/data_table.ipynb>data table notebook</a>'\n",
              "            + ' to learn more about interactive tables.';\n",
              "          element.innerHTML = '';\n",
              "          dataTable['output_type'] = 'display_data';\n",
              "          await google.colab.output.renderOutput(dataTable, element);\n",
              "          const docLink = document.createElement('div');\n",
              "          docLink.innerHTML = docLinkHtml;\n",
              "          element.appendChild(docLink);\n",
              "        }\n",
              "      </script>\n",
              "    </div>\n",
              "  </div>\n",
              "  "
            ]
          },
          "metadata": {},
          "execution_count": 12
        }
      ]
    },
    {
      "cell_type": "code",
      "source": [
        "X_train, X_test, y_train, y_test = train_test_split(X, y)"
      ],
      "metadata": {
        "id": "4m4G3XNcbqou"
      },
      "execution_count": null,
      "outputs": []
    },
    {
      "cell_type": "code",
      "source": [
        "import numpy as np\n",
        "np.count_nonzero(y_train)"
      ],
      "metadata": {
        "colab": {
          "base_uri": "https://localhost:8080/"
        },
        "id": "8uYGmI9dzs3-",
        "outputId": "07d1dcd7-8253-4a79-cc6d-05ea144924e9"
      },
      "execution_count": null,
      "outputs": [
        {
          "output_type": "execute_result",
          "data": {
            "text/plain": [
              "56250"
            ]
          },
          "metadata": {},
          "execution_count": 14
        }
      ]
    },
    {
      "cell_type": "code",
      "source": [
        "np.count_nonzero(y_test)"
      ],
      "metadata": {
        "colab": {
          "base_uri": "https://localhost:8080/"
        },
        "id": "NOO8_IiT0RYm",
        "outputId": "d5bdd1be-33f9-413a-b518-d7ffc36e1605"
      },
      "execution_count": null,
      "outputs": [
        {
          "output_type": "execute_result",
          "data": {
            "text/plain": [
              "18750"
            ]
          },
          "metadata": {},
          "execution_count": 15
        }
      ]
    },
    {
      "cell_type": "code",
      "source": [
        "model1 = XGBClassifier(use_label_encoder=False, eval_metric='mlogloss')"
      ],
      "metadata": {
        "id": "hsK7XDynb8J3"
      },
      "execution_count": null,
      "outputs": []
    },
    {
      "cell_type": "code",
      "source": [
        "model1.fit(X_train, y_train)"
      ],
      "metadata": {
        "colab": {
          "base_uri": "https://localhost:8080/"
        },
        "id": "w2xA3aXpcTAR",
        "outputId": "cd127a31-4872-4a34-8c9a-bdf50f5719ad"
      },
      "execution_count": null,
      "outputs": [
        {
          "output_type": "execute_result",
          "data": {
            "text/plain": [
              "XGBClassifier(eval_metric='mlogloss', objective='multi:softprob',\n",
              "              use_label_encoder=False)"
            ]
          },
          "metadata": {},
          "execution_count": 17
        }
      ]
    },
    {
      "cell_type": "code",
      "source": [
        "y_pred1 = model1.predict(X_test)"
      ],
      "metadata": {
        "id": "tI1JTljCcjxi"
      },
      "execution_count": null,
      "outputs": []
    },
    {
      "cell_type": "code",
      "source": [
        "y_pred1"
      ],
      "metadata": {
        "colab": {
          "base_uri": "https://localhost:8080/"
        },
        "id": "VlbpoCQXcxcQ",
        "outputId": "59d34e20-dc4f-4481-b072-edc33a8637ea"
      },
      "execution_count": null,
      "outputs": [
        {
          "output_type": "execute_result",
          "data": {
            "text/plain": [
              "array(['Karacadag', 'Arborio', 'Basmati', ..., 'Jasmine', 'Ipsala',\n",
              "       'Ipsala'], dtype=object)"
            ]
          },
          "metadata": {},
          "execution_count": 19
        }
      ]
    },
    {
      "cell_type": "code",
      "source": [
        "accuracy = accuracy_score(y_test, y_pred1)\n",
        "accuracy"
      ],
      "metadata": {
        "colab": {
          "base_uri": "https://localhost:8080/"
        },
        "id": "UI_JWSjScy9p",
        "outputId": "d1c8e177-4bc9-4467-c631-b21c77212841"
      },
      "execution_count": null,
      "outputs": [
        {
          "output_type": "execute_result",
          "data": {
            "text/plain": [
              "0.8913066666666667"
            ]
          },
          "metadata": {},
          "execution_count": 20
        }
      ]
    },
    {
      "cell_type": "code",
      "source": [
        "!pip install catboost"
      ],
      "metadata": {
        "colab": {
          "base_uri": "https://localhost:8080/"
        },
        "id": "tSjiV_kbdTZV",
        "outputId": "9ebc732c-0fd9-4ada-99c7-552a9f64cd08"
      },
      "execution_count": null,
      "outputs": [
        {
          "output_type": "stream",
          "name": "stdout",
          "text": [
            "Looking in indexes: https://pypi.org/simple, https://us-python.pkg.dev/colab-wheels/public/simple/\n",
            "Collecting catboost\n",
            "  Downloading catboost-1.0.6-cp37-none-manylinux1_x86_64.whl (76.6 MB)\n",
            "\u001b[K     |████████████████████████████████| 76.6 MB 1.1 MB/s \n",
            "\u001b[?25hRequirement already satisfied: matplotlib in /usr/local/lib/python3.7/dist-packages (from catboost) (3.2.2)\n",
            "Requirement already satisfied: plotly in /usr/local/lib/python3.7/dist-packages (from catboost) (5.5.0)\n",
            "Requirement already satisfied: six in /usr/local/lib/python3.7/dist-packages (from catboost) (1.15.0)\n",
            "Requirement already satisfied: scipy in /usr/local/lib/python3.7/dist-packages (from catboost) (1.4.1)\n",
            "Requirement already satisfied: numpy>=1.16.0 in /usr/local/lib/python3.7/dist-packages (from catboost) (1.21.6)\n",
            "Requirement already satisfied: pandas>=0.24.0 in /usr/local/lib/python3.7/dist-packages (from catboost) (1.3.5)\n",
            "Requirement already satisfied: graphviz in /usr/local/lib/python3.7/dist-packages (from catboost) (0.10.1)\n",
            "Requirement already satisfied: pytz>=2017.3 in /usr/local/lib/python3.7/dist-packages (from pandas>=0.24.0->catboost) (2022.1)\n",
            "Requirement already satisfied: python-dateutil>=2.7.3 in /usr/local/lib/python3.7/dist-packages (from pandas>=0.24.0->catboost) (2.8.2)\n",
            "Requirement already satisfied: pyparsing!=2.0.4,!=2.1.2,!=2.1.6,>=2.0.1 in /usr/local/lib/python3.7/dist-packages (from matplotlib->catboost) (3.0.9)\n",
            "Requirement already satisfied: cycler>=0.10 in /usr/local/lib/python3.7/dist-packages (from matplotlib->catboost) (0.11.0)\n",
            "Requirement already satisfied: kiwisolver>=1.0.1 in /usr/local/lib/python3.7/dist-packages (from matplotlib->catboost) (1.4.3)\n",
            "Requirement already satisfied: typing-extensions in /usr/local/lib/python3.7/dist-packages (from kiwisolver>=1.0.1->matplotlib->catboost) (4.1.1)\n",
            "Requirement already satisfied: tenacity>=6.2.0 in /usr/local/lib/python3.7/dist-packages (from plotly->catboost) (8.0.1)\n",
            "Installing collected packages: catboost\n",
            "Successfully installed catboost-1.0.6\n"
          ]
        }
      ]
    },
    {
      "cell_type": "code",
      "source": [
        "from catboost import CatBoostClassifier\n",
        "model2 = CatBoostClassifier(iterations=1000,task_type=\"GPU\",devices='0:1')\n",
        "model2.fit(X_train,y_train,verbose=False)"
      ],
      "metadata": {
        "colab": {
          "base_uri": "https://localhost:8080/"
        },
        "id": "UvZPqi4Vc0_F",
        "outputId": "8ddf2e9a-6a2f-495c-e16e-179dabdcee51"
      },
      "execution_count": null,
      "outputs": [
        {
          "output_type": "execute_result",
          "data": {
            "text/plain": [
              "<catboost.core.CatBoostClassifier at 0x7f4c38010710>"
            ]
          },
          "metadata": {},
          "execution_count": 22
        }
      ]
    },
    {
      "cell_type": "code",
      "source": [
        "y_pred2 = model2.predict(X_test)"
      ],
      "metadata": {
        "id": "CD4Db-xZdQec"
      },
      "execution_count": null,
      "outputs": []
    },
    {
      "cell_type": "code",
      "source": [
        "import numpy\n",
        "numpy.unique(y_pred2)"
      ],
      "metadata": {
        "colab": {
          "base_uri": "https://localhost:8080/"
        },
        "id": "SIJaOAuRl8Wi",
        "outputId": "c4afb3f5-c63e-4426-9165-5c87a8b70a59"
      },
      "execution_count": null,
      "outputs": [
        {
          "output_type": "execute_result",
          "data": {
            "text/plain": [
              "array(['Arborio', 'Basmati', 'Ipsala', 'Jasmine', 'Karacadag'],\n",
              "      dtype=object)"
            ]
          },
          "metadata": {},
          "execution_count": 24
        }
      ]
    },
    {
      "cell_type": "code",
      "source": [
        "accuracy = accuracy_score(y_test, y_pred2)\n",
        "accuracy"
      ],
      "metadata": {
        "colab": {
          "base_uri": "https://localhost:8080/"
        },
        "id": "VIMBw7bwl9O3",
        "outputId": "a0ae77f5-2fe4-49f0-d7b9-d2567fbfb323"
      },
      "execution_count": null,
      "outputs": [
        {
          "output_type": "execute_result",
          "data": {
            "text/plain": [
              "0.88976"
            ]
          },
          "metadata": {},
          "execution_count": 25
        }
      ]
    },
    {
      "cell_type": "code",
      "source": [
        "import numpy as np\n",
        "\n",
        "\n",
        "def plot_confusion_matrix(cm,\n",
        "                          target_names,\n",
        "                          title='Confusion matrix',\n",
        "                          cmap=None,\n",
        "                          normalize=True):\n",
        "    \"\"\"\n",
        "    given a sklearn confusion matrix (cm), make a nice plot\n",
        "\n",
        "    Arguments\n",
        "    ---------\n",
        "    cm:           confusion matrix from sklearn.metrics.confusion_matrix\n",
        "\n",
        "    target_names: given classification classes such as [0, 1, 2]\n",
        "                  the class names, for example: ['high', 'medium', 'low']\n",
        "\n",
        "    title:        the text to display at the top of the matrix\n",
        "\n",
        "    cmap:         the gradient of the values displayed from matplotlib.pyplot.cm\n",
        "                  see http://matplotlib.org/examples/color/colormaps_reference.html\n",
        "                  plt.get_cmap('jet') or plt.cm.Blues\n",
        "\n",
        "    normalize:    If False, plot the raw numbers\n",
        "                  If True, plot the proportions\n",
        "\n",
        "    Usage\n",
        "    -----\n",
        "    plot_confusion_matrix(cm           = cm,                  # confusion matrix created by\n",
        "                                                              # sklearn.metrics.confusion_matrix\n",
        "                          normalize    = True,                # show proportions\n",
        "                          target_names = y_labels_vals,       # list of names of the classes\n",
        "                          title        = best_estimator_name) # title of graph\n",
        "\n",
        "    Citiation\n",
        "    ---------\n",
        "    http://scikit-learn.org/stable/auto_examples/model_selection/plot_confusion_matrix.html\n",
        "\n",
        "    \"\"\"\n",
        "    import matplotlib.pyplot as plt\n",
        "    import numpy as np\n",
        "    import itertools\n",
        "\n",
        "    accuracy = np.trace(cm) / np.sum(cm).astype('float')\n",
        "    misclass = 1 - accuracy\n",
        "\n",
        "    if cmap is None:\n",
        "        cmap = plt.get_cmap('Blues')\n",
        "\n",
        "    plt.figure(figsize=(8, 6))\n",
        "    plt.imshow(cm, interpolation='nearest', cmap=cmap)\n",
        "    plt.title(title)\n",
        "    plt.colorbar()\n",
        "\n",
        "    if target_names is not None:\n",
        "        tick_marks = np.arange(len(target_names))\n",
        "        plt.xticks(tick_marks, target_names, rotation=45)\n",
        "        plt.yticks(tick_marks, target_names)\n",
        "\n",
        "    if normalize:\n",
        "        cm = cm.astype('float') / cm.sum(axis=1)[:, np.newaxis]\n",
        "\n",
        "\n",
        "    thresh = cm.max() / 1.5 if normalize else cm.max() / 2\n",
        "    for i, j in itertools.product(range(cm.shape[0]), range(cm.shape[1])):\n",
        "        if normalize:\n",
        "            plt.text(j, i, \"{:0.4f}\".format(cm[i, j]),\n",
        "                     horizontalalignment=\"center\",\n",
        "                     color=\"white\" if cm[i, j] > thresh else \"black\")\n",
        "        else:\n",
        "            plt.text(j, i, \"{:,}\".format(cm[i, j]),\n",
        "                     horizontalalignment=\"center\",\n",
        "                     color=\"white\" if cm[i, j] > thresh else \"black\")\n",
        "\n",
        "\n",
        "    plt.tight_layout()\n",
        "    plt.ylabel('True label')\n",
        "    plt.xlabel('Predicted label\\naccuracy={:0.4f}; misclass={:0.4f}'.format(accuracy, misclass))\n",
        "    plt.show()"
      ],
      "metadata": {
        "id": "5OaMEs9XpjEv"
      },
      "execution_count": null,
      "outputs": []
    },
    {
      "cell_type": "code",
      "source": [
        "import sklearn\n",
        "a=sklearn.metrics.confusion_matrix(y_test,y_pred1)\n",
        "target_names=['Arborio', 'Basmati', 'Ipsala', 'Jasmine', 'Karacadag']\n",
        "plot_confusion_matrix(a,target_names,title='Confusion matrix for XGBoost',cmap=None,normalize=True)"
      ],
      "metadata": {
        "colab": {
          "base_uri": "https://localhost:8080/",
          "height": 467
        },
        "id": "vNKxTZkdaMl-",
        "outputId": "1dad91b2-8689-4c0e-f6a5-57997570e0a6"
      },
      "execution_count": null,
      "outputs": [
        {
          "output_type": "display_data",
          "data": {
            "text/plain": [
              "<Figure size 576x432 with 2 Axes>"
            ],
            "image/png": "[encoded data removed]"
          },
          "metadata": {
            "needs_background": "light"
          }
        }
      ]
    },
    {
      "cell_type": "code",
      "source": [
        "b=sklearn.metrics.confusion_matrix(y_test,y_pred2)\n",
        "plot_confusion_matrix(b,target_names,title='Confusion matrix for CATBoost',cmap=None,normalize=True)"
      ],
      "metadata": {
        "colab": {
          "base_uri": "https://localhost:8080/",
          "height": 467
        },
        "id": "wHbOPuBHaxTN",
        "outputId": "6ee45fc6-4595-4b49-b59b-0689556f9ba0"
      },
      "execution_count": null,
      "outputs": [
        {
          "output_type": "display_data",
          "data": {
            "text/plain": [
              "<Figure size 576x432 with 2 Axes>"
            ],
            "image/png": "[encoded data removed]"
          },
          "metadata": {
            "needs_background": "light"
          }
        }
      ]
    },
    {
      "cell_type": "code",
      "source": [
        ""
      ],
      "metadata": {
        "id": "yL2M6K55dbAr"
      },
      "execution_count": null,
      "outputs": []
    }
  ]
}